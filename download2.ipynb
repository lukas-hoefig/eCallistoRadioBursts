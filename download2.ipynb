{
 "cells": [
  {
   "cell_type": "code",
   "execution_count": 31,
   "metadata": {},
   "outputs": [],
   "source": [
    "'''\n",
    "Test to upload Files from a local directory to nextcloud share with \"password\",\n",
    "download via different readonly share, delete from share.\n",
    "All done by using the pypi REQUESTS module\n",
    "and the python modules zipfile and os\n",
    "'''\n",
    "\n",
    "import requests\n",
    "import zipfile\n",
    "import os\n",
    "\n",
    "\n",
    "url = 'https://cloud.uni-graz.at/'  #tested on uni-graz nextcloud by Roland Maderbacher\n",
    "transfer_dir = 'TRANSFER'           #local directory, has to exist with files inside\n",
    "handle_token = 'example7iyBLQ5BmcsQyc2'    #read/write share on cloud\n",
    "secure_token = 'exampleHYQBATPmsN2022'     #password for read/write share on cloud\n",
    "download_token = 'example8AAWaYAWZCBKwTR'  #share to same path on cloud but readonly\n",
    "\n",
    "\n",
    "def delete_on_cloud(filename,handle_token,secure_token):\n",
    "    full_url = url + 'public.php/webdav/' + filename\n",
    "    result = requests.delete(full_url, auth = (handle_token, secure_token))\n",
    "    print('delete result:', result) #Response of webserver while testing\n",
    "\n",
    "\n",
    "def upload_to_cloud(filename,handle_token,secure_token):\n",
    "    full_url = url + 'public.php/webdav/' + filename\n",
    "    result = requests.put(full_url, auth = (handle_token, secure_token), data = filename)\n",
    "    print('upload result:', result) #Response of webserver while testing\n",
    "\n",
    "\n",
    "def download_from_cloud(download_token):\n",
    "    local_file_name = 'local-copy.zip'\n",
    "    local_file = zipfile.ZipFile(local_file_name, 'w')\n",
    "    local_file.close()\n",
    "    full_url = url + 's/' + download_token + '/download'\n",
    "    data = requests.get(full_url)\n",
    "\n",
    "    with zipfile.ZipFile(local_file_name, 'a') as file:\n",
    "        file.write(data.content)\n",
    "\n",
    "    with zipfile.ZipFile(local_file_name, 'r') as zip_ref:\n",
    "        zip_ref.extractall()"
   ]
  },
  {
   "cell_type": "code",
   "execution_count": 32,
   "metadata": {},
   "outputs": [
    {
     "name": "stdout",
     "output_type": "stream",
     "text": [
      "../test1.txt\n",
      "upload result: <Response [404]>\n",
      "../test2.txt\n",
      "upload result: <Response [404]>\n",
      "../test3.txt\n",
      "upload result: <Response [404]>\n",
      "<Response [404]>\n"
     ]
    },
    {
     "ename": "OSError",
     "evalue": "[Errno 36] File name too long: b'<!DOCTYPE html>\\n<html class=\"ng-csp\" data-placeholder-focus=\"false\" lang=\"de-DE\" data-locale=\"de_AT\" >\\n\\t<head\\n data-requesttoken=\"YhD7DtnGnjfxnNPWIJuJX82FhxKaO3GhKpFm7yNadCo=:KSOSZp+g3AK+/bifTtzsNYjJ0SuufB6VW/9TomJoEWs=\">\\n\\t\\t<meta charset=\"utf-8\">\\n\\t\\t<title>\\n\\t\\tuniCLOUD\\t\\t</title>\\n\\t\\t<meta name=\"viewport\" content=\"width=device-width, initial-scale=1.0, minimum-scale=1.0\">\\n\\t\\t\\t\\t<meta name=\"apple-itunes-app\" content=\"app-id=1125420102\">\\n\\t\\t\\t\\t<meta name=\"theme-color\" content=\"#FFFFFF\">\\n\\t\\t<link rel=\"icon\" href=\"/apps/theming/favicon?v=76\">\\n\\t\\t<link rel=\"apple-touch-icon\" href=\"/apps/theming/icon?v=76\">\\n\\t\\t<link rel=\"mask-icon\" sizes=\"any\" href=\"/core/img/favicon-mask.svg\" color=\"#FFFFFF\">\\n\\t\\t<link rel=\"manifest\" href=\"/apps/theming/manifest?v=76\">\\n\\t\\t<link rel=\"stylesheet\" href=\"/css/core/bae4-55d5-server.css?v=fb48f31ff2ad82f1a1dfe6ee298aeb8f-8fea2f06-76\">\\n<link rel=\"stylesheet\" href=\"/css/core/bae4-55d5-css-variables.css?v=fb48f31ff2ad82f1a1dfe6ee298aeb8f-8fea2f06-76\">\\n<link rel=\"stylesheet\" href=\"/apps/files_rightclick/css/app.css?v=198068b3-76\">\\n<link rel=\"stylesheet\" href=\"/core/css/guest.css?v=8fea2f06-76\">\\n\\t\\t<script nonce=\"WWhEN0R0bkduamZ4bk5QV0lKdUpYODJGaHhLYU8zR2hLcEZtN3lOYWRDbz06S1NPU1pwK2czQUsrL2JpZlR0enNOWWpKMFN1dWZCNlZXLzlUb21Kb0VXcz0=\" defer src=\"/core/js/oc.js?v=8fea2f06\"></script>\\n<script nonce=\"WWhEN0R0bkduamZ4bk5QV0lKdUpYODJGaHhLYU8zR2hLcEZtN3lOYWRDbz06S1NPU1pwK2czQUsrL2JpZlR0enNOWWpKMFN1dWZCNlZXLzlUb21Kb0VXcz0=\" defer src=\"/dist/core-common.js?v=8fea2f06-76\"></script>\\n<script nonce=\"WWhEN0R0bkduamZ4bk5QV0lKdUpYODJGaHhLYU8zR2hLcEZtN3lOYWRDbz06S1NPU1pwK2czQUsrL2JpZlR0enNOWWpKMFN1dWZCNlZXLzlUb21Kb0VXcz0=\" defer src=\"/dist/core-main.js?v=8fea2f06-76\"></script>\\n<script nonce=\"WWhEN0R0bkduamZ4bk5QV0lKdUpYODJGaHhLYU8zR2hLcEZtN3lOYWRDbz06S1NPU1pwK2czQUsrL2JpZlR0enNOWWpKMFN1dWZCNlZXLzlUb21Kb0VXcz0=\" defer src=\"/core/l10n/de_DE.js?v=8fea2f06-76\"></script>\\n<script nonce=\"WWhEN0R0bkduamZ4bk5QV0lKdUpYODJGaHhLYU8zR2hLcEZtN3lOYWRDbz06S1NPU1pwK2czQUsrL2JpZlR0enNOWWpKMFN1dWZCNlZXLzlUb21Kb0VXcz0=\" defer src=\"/dist/core-files_fileinfo.js?v=8fea2f06-76\"></script>\\n<script nonce=\"WWhEN0R0bkduamZ4bk5QV0lKdUpYODJGaHhLYU8zR2hLcEZtN3lOYWRDbz06S1NPU1pwK2czQUsrL2JpZlR0enNOWWpKMFN1dWZCNlZXLzlUb21Kb0VXcz0=\" defer src=\"/dist/core-files_client.js?v=8fea2f06-76\"></script>\\n<script nonce=\"WWhEN0R0bkduamZ4bk5QV0lKdUpYODJGaHhLYU8zR2hLcEZtN3lOYWRDbz06S1NPU1pwK2czQUsrL2JpZlR0enNOWWpKMFN1dWZCNlZXLzlUb21Kb0VXcz0=\" defer src=\"/js/core/merged-template-prepend.js?v=8fea2f06-76\"></script>\\n<script nonce=\"WWhEN0R0bkduamZ4bk5QV0lKdUpYODJGaHhLYU8zR2hLcEZtN3lOYWRDbz06S1NPU1pwK2czQUsrL2JpZlR0enNOWWpKMFN1dWZCNlZXLzlUb21Kb0VXcz0=\" defer src=\"/apps/files_sharing/l10n/de_DE.js?v=8fea2f06-76\"></script>\\n<script nonce=\"WWhEN0R0bkduamZ4bk5QV0lKdUpYODJGaHhLYU8zR2hLcEZtN3lOYWRDbz06S1NPU1pwK2czQUsrL2JpZlR0enNOWWpKMFN1dWZCNlZXLzlUb21Kb0VXcz0=\" defer src=\"/dist/files_sharing-main.js?v=8fea2f06-76\"></script>\\n<script nonce=\"WWhEN0R0bkduamZ4bk5QV0lKdUpYODJGaHhLYU8zR2hLcEZtN3lOYWRDbz06S1NPU1pwK2czQUsrL2JpZlR0enNOWWpKMFN1dWZCNlZXLzlUb21Kb0VXcz0=\" defer src=\"/apps/accessibility/l10n/de_DE.js?v=8fea2f06-76\"></script>\\n<script nonce=\"WWhEN0R0bkduamZ4bk5QV0lKdUpYODJGaHhLYU8zR2hLcEZtN3lOYWRDbz06S1NPU1pwK2czQUsrL2JpZlR0enNOWWpKMFN1dWZCNlZXLzlUb21Kb0VXcz0=\" defer src=\"/dist/accessibility-accessibilityoca.js?v=8fea2f06-76\"></script>\\n<script nonce=\"WWhEN0R0bkduamZ4bk5QV0lKdUpYODJGaHhLYU8zR2hLcEZtN3lOYWRDbz06S1NPU1pwK2czQUsrL2JpZlR0enNOWWpKMFN1dWZCNlZXLzlUb21Kb0VXcz0=\" defer src=\"/apps/files_rightclick/l10n/de_DE.js?v=8fea2f06-76\"></script>\\n<script nonce=\"WWhEN0R0bkduamZ4bk5QV0lKdUpYODJGaHhLYU8zR2hLcEZtN3lOYWRDbz06S1NPU1pwK2czQUsrL2JpZlR0enNOWWpKMFN1dWZCNlZXLzlUb21Kb0VXcz0=\" defer src=\"/apps/files_rightclick/js/script.js?v=8fea2f06-76\"></script>\\n<script nonce=\"WWhEN0R0bkduamZ4bk5QV0lKdUpYODJGaHhLYU8zR2hLcEZtN3lOYWRDbz06S1NPU1pwK2czQUsrL2JpZlR0enNOWWpKMFN1dWZCNlZXLzlUb21Kb0VXcz0=\" defer src=\"/apps/files_rightclick/js/files.js?v=8fea2f06-76\"></script>\\n<script nonce=\"WWhEN0R0bkduamZ4bk5QV0lKdUpYODJGaHhLYU8zR2hLcEZtN3lOYWRDbz06S1NPU1pwK2czQUsrL2JpZlR0enNOWWpKMFN1dWZCNlZXLzlUb21Kb0VXcz0=\" defer src=\"/apps/theming/l10n/de_DE.js?v=8fea2f06-76\"></script>\\n<script nonce=\"WWhEN0R0bkduamZ4bk5QV0lKdUpYODJGaHhLYU8zR2hLcEZtN3lOYWRDbz06S1NPU1pwK2czQUsrL2JpZlR0enNOWWpKMFN1dWZCNlZXLzlUb21Kb0VXcz0=\" defer src=\"/apps/theming/js/theming.js?v=8fea2f06-76\"></script>\\n\\t\\t<link rel=\"stylesheet\" href=\"/css/icons/icons-vars.css?v=1664198168\"/><link rel=\"stylesheet\" media=\"(prefers-color-scheme: dark)\" href=\"/apps/accessibility/css/user-a82fd95db10ff25dfad39f07372ebe37\"/><link rel=\"stylesheet\" href=\"/apps/theming/styles?v=76\"/><link rel=\"stylesheet\" href=\"/apps/theming_customcss/styles?v=1660836411018\"/><meta name=\"robots\" content=\"noindex, nofollow\"/>\\t</head>\\n\\t<body id=\"body-login\">\\n\\t\\t<noscript>\\n\\t<div id=\"nojavascript\">\\n\\t\\t<div>\\n\\t\\t\\tDiese Anwendung ben\\xc3\\xb6tigt JavaScript zum ordnungsgem\\xc3\\xa4\\xc3\\x9fen Betrieb. Bitte <a href=\"https://www.enable-javascript.com/\" target=\"_blank\" rel=\"noreferrer noopener\">aktivieren Sie JavaScript</a> und laden Sie die Seite neu.\\t\\t</div>\\n\\t</div>\\n</noscript>\\n\\t\\t\\t\\t\\t<input type=\"hidden\" id=\"initial-state-core-config\" value=\"eyJzZXNzaW9uX2xpZmV0aW1lIjoxNDQwLCJzZXNzaW9uX2tlZXBhbGl2ZSI6dHJ1ZSwiYXV0b19sb2dvdXQiOmZhbHNlLCJ2ZXJzaW9uIjoiMjQuMC40LjIiLCJ2ZXJzaW9uc3RyaW5nIjoiMjQuMC40IEVudGVycHJpc2UiLCJlbmFibGVfYXZhdGFycyI6dHJ1ZSwibG9zdF9wYXNzd29yZF9saW5rIjpudWxsLCJtb2RSZXdyaXRlV29ya2luZyI6dHJ1ZSwic2hhcmluZy5tYXhBdXRvY29tcGxldGVSZXN1bHRzIjoyNSwic2hhcmluZy5taW5TZWFyY2hTdHJpbmdMZW5ndGgiOjAsImJsYWNrbGlzdF9maWxlc19yZWdleCI6IlxcLihwYXJ0fGZpbGVwYXJ0KSQifQ==\">\\n\\t\\t\\t\\t\\t<input type=\"hidden\" id=\"initial-state-core-capabilities\" value=\"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\">\\n\\t\\t\\t\\t\\t<input type=\"hidden\" id=\"initial-state-theming-data\" value=\"eyJuYW1lIjoidW5pQ0xPVUQiLCJ1cmwiOiJodHRwczpcL1wvY2xvdWQudW5pLWdyYXouYXQiLCJzbG9nYW4iOiIiLCJjb2xvciI6IiNGRkZGRkYiLCJpbXByaW50VXJsIjoiaHR0cHM6XC9cL2Nsb3VkLnVuaS1ncmF6LmF0XC9zXC9tejlncXBRZUFEWFNtak4iLCJwcml2YWN5VXJsIjoiaHR0cHM6XC9cL2Nsb3VkLnVuaS1ncmF6LmF0XC9zXC9qbUttRHJwQjJlbkppV0QiLCJpbnZlcnRlZCI6dHJ1ZSwiY2FjaGVCdXN0ZXIiOiI3NiJ9\">\\n\\t\\t\\t\\t\\t<input type=\"hidden\" id=\"initial-state-accessibility-data\" value=\"eyJjaGVja01lZGlhIjp0cnVlLCJ0aGVtZSI6ZmFsc2UsImhpZ2hjb250cmFzdCI6ZmFsc2V9\">\\n\\t\\t\\t\\t\\t<input type=\"hidden\" id=\"initial-state-comments-maxAutoCompleteResults\" value=\"MTA=\">\\n\\t\\t\\t\\t<div class=\"wrapper\">\\n\\t\\t\\t<div class=\"v-align\">\\n\\t\\t\\t\\t\\t\\t\\t\\t\\t<header role=\"banner\">\\n\\t\\t\\t\\t\\t\\t<div id=\"header\">\\n\\t\\t\\t\\t\\t\\t\\t<div class=\"logo\">\\n\\t\\t\\t\\t\\t\\t\\t\\t<h1 class=\"hidden-visually\">\\n\\t\\t\\t\\t\\t\\t\\t\\t\\tuniCLOUD\\t\\t\\t\\t\\t\\t\\t\\t</h1>\\n\\t\\t\\t\\t\\t\\t\\t\\t\\t\\t\\t\\t\\t\\t\\t\\t\\t<img src=\"/apps/theming/image/logo?useSvg=1&amp;v=76\"/>\\n\\t\\t\\t\\t\\t\\t\\t\\t\\t\\t\\t\\t\\t\\t\\t</div>\\n\\t\\t\\t\\t\\t\\t</div>\\n\\t\\t\\t\\t\\t</header>\\n\\t\\t\\t\\t\\t\\t\\t\\t<main>\\n\\t\\t\\t\\t\\t\\t<div class=\"body-login-container update\">\\n\\t\\t<div class=\"icon-big icon-search icon-white\"></div>\\n\\t\\t<h2>Datei nicht gefunden</h2>\\n\\t\\t<p class=\"infogroup\">Das Dokument konnte auf dem Server nicht gefunden werden. M\\xc3\\xb6glicherweise wurde die Freigabe gel\\xc3\\xb6scht oder ist abgelaufen?</p>\\n\\t\\t<p><a class=\"button primary\" href=\"/\">\\n\\t\\t\\tZur\\xc3\\xbcck zu uniCLOUD\\t\\t</a></p>\\n\\t</div>\\n\\t\\t\\t\\t</main>\\n\\t\\t\\t</div>\\n\\t\\t</div>\\n\\t\\t<footer role=\"contentinfo\">\\n\\t\\t\\t<p class=\"info\">\\n\\t\\t\\t\\t<a href=\"https://cloud.uni-graz.at\" target=\"_blank\" rel=\"noreferrer noopener\" class=\"entity-name\">uniCLOUD</a><br/><a href=\"https://cloud.uni-graz.at/s/mz9gqpQeADXSmjN\" class=\"legal\" target=\"_blank\" rel=\"noreferrer noopener\">Impressum</a> \\xc2\\xb7 <a href=\"https://cloud.uni-graz.at/s/jmKmDrpB2enJiWD\" class=\"legal\" target=\"_blank\" rel=\"noreferrer noopener\">Datenschutzbestimmungen</a>\\t\\t\\t</p>\\n\\t\\t</footer>\\n\\t</body>\\n</html>\\n'",
     "output_type": "error",
     "traceback": [
      "\u001b[0;31m---------------------------------------------------------------------------\u001b[0m",
      "\u001b[0;31mOSError\u001b[0m                                   Traceback (most recent call last)",
      "\u001b[1;32m/home/lukas/code/eCallistoRadioBursts/download2.ipynb Cell 2\u001b[0m in \u001b[0;36m<cell line: 9>\u001b[0;34m()\u001b[0m\n\u001b[1;32m      <a href='vscode-notebook-cell:/home/lukas/code/eCallistoRadioBursts/download2.ipynb#W1sZmlsZQ%3D%3D?line=4'>5</a>\u001b[0m     \u001b[39mprint\u001b[39m(i)\n\u001b[1;32m      <a href='vscode-notebook-cell:/home/lukas/code/eCallistoRadioBursts/download2.ipynb#W1sZmlsZQ%3D%3D?line=5'>6</a>\u001b[0m     upload_to_cloud(i,handle_token,secure_token)\n\u001b[0;32m----> <a href='vscode-notebook-cell:/home/lukas/code/eCallistoRadioBursts/download2.ipynb#W1sZmlsZQ%3D%3D?line=8'>9</a>\u001b[0m download_from_cloud(download_token)\n",
      "\u001b[1;32m/home/lukas/code/eCallistoRadioBursts/download2.ipynb Cell 2\u001b[0m in \u001b[0;36mdownload_from_cloud\u001b[0;34m(download_token)\u001b[0m\n\u001b[1;32m     <a href='vscode-notebook-cell:/home/lukas/code/eCallistoRadioBursts/download2.ipynb#W1sZmlsZQ%3D%3D?line=38'>39</a>\u001b[0m \u001b[39mprint\u001b[39m(data)\n\u001b[1;32m     <a href='vscode-notebook-cell:/home/lukas/code/eCallistoRadioBursts/download2.ipynb#W1sZmlsZQ%3D%3D?line=40'>41</a>\u001b[0m \u001b[39mwith\u001b[39;00m zipfile\u001b[39m.\u001b[39mZipFile(local_file_name, \u001b[39m'\u001b[39m\u001b[39ma\u001b[39m\u001b[39m'\u001b[39m) \u001b[39mas\u001b[39;00m file:\n\u001b[0;32m---> <a href='vscode-notebook-cell:/home/lukas/code/eCallistoRadioBursts/download2.ipynb#W1sZmlsZQ%3D%3D?line=41'>42</a>\u001b[0m     file\u001b[39m.\u001b[39;49mwrite(data\u001b[39m.\u001b[39;49mcontent)\n\u001b[1;32m     <a href='vscode-notebook-cell:/home/lukas/code/eCallistoRadioBursts/download2.ipynb#W1sZmlsZQ%3D%3D?line=43'>44</a>\u001b[0m \u001b[39mwith\u001b[39;00m zipfile\u001b[39m.\u001b[39mZipFile(local_file_name, \u001b[39m'\u001b[39m\u001b[39mr\u001b[39m\u001b[39m'\u001b[39m) \u001b[39mas\u001b[39;00m zip_ref:\n\u001b[1;32m     <a href='vscode-notebook-cell:/home/lukas/code/eCallistoRadioBursts/download2.ipynb#W1sZmlsZQ%3D%3D?line=44'>45</a>\u001b[0m     zip_ref\u001b[39m.\u001b[39mextractall()\n",
      "File \u001b[0;32m/usr/lib/python3.10/zipfile.py:1739\u001b[0m, in \u001b[0;36mZipFile.write\u001b[0;34m(self, filename, arcname, compress_type, compresslevel)\u001b[0m\n\u001b[1;32m   1734\u001b[0m \u001b[39mif\u001b[39;00m \u001b[39mself\u001b[39m\u001b[39m.\u001b[39m_writing:\n\u001b[1;32m   1735\u001b[0m     \u001b[39mraise\u001b[39;00m \u001b[39mValueError\u001b[39;00m(\n\u001b[1;32m   1736\u001b[0m         \u001b[39m\"\u001b[39m\u001b[39mCan\u001b[39m\u001b[39m'\u001b[39m\u001b[39mt write to ZIP archive while an open writing handle exists\u001b[39m\u001b[39m\"\u001b[39m\n\u001b[1;32m   1737\u001b[0m     )\n\u001b[0;32m-> 1739\u001b[0m zinfo \u001b[39m=\u001b[39m ZipInfo\u001b[39m.\u001b[39;49mfrom_file(filename, arcname,\n\u001b[1;32m   1740\u001b[0m                           strict_timestamps\u001b[39m=\u001b[39;49m\u001b[39mself\u001b[39;49m\u001b[39m.\u001b[39;49m_strict_timestamps)\n\u001b[1;32m   1742\u001b[0m \u001b[39mif\u001b[39;00m zinfo\u001b[39m.\u001b[39mis_dir():\n\u001b[1;32m   1743\u001b[0m     zinfo\u001b[39m.\u001b[39mcompress_size \u001b[39m=\u001b[39m \u001b[39m0\u001b[39m\n",
      "File \u001b[0;32m/usr/lib/python3.10/zipfile.py:502\u001b[0m, in \u001b[0;36mZipInfo.from_file\u001b[0;34m(cls, filename, arcname, strict_timestamps)\u001b[0m\n\u001b[1;32m    500\u001b[0m \u001b[39mif\u001b[39;00m \u001b[39misinstance\u001b[39m(filename, os\u001b[39m.\u001b[39mPathLike):\n\u001b[1;32m    501\u001b[0m     filename \u001b[39m=\u001b[39m os\u001b[39m.\u001b[39mfspath(filename)\n\u001b[0;32m--> 502\u001b[0m st \u001b[39m=\u001b[39m os\u001b[39m.\u001b[39;49mstat(filename)\n\u001b[1;32m    503\u001b[0m isdir \u001b[39m=\u001b[39m stat\u001b[39m.\u001b[39mS_ISDIR(st\u001b[39m.\u001b[39mst_mode)\n\u001b[1;32m    504\u001b[0m mtime \u001b[39m=\u001b[39m time\u001b[39m.\u001b[39mlocaltime(st\u001b[39m.\u001b[39mst_mtime)\n",
      "\u001b[0;31mOSError\u001b[0m: [Errno 36] File name too long: b'<!DOCTYPE html>\\n<html class=\"ng-csp\" data-placeholder-focus=\"false\" lang=\"de-DE\" data-locale=\"de_AT\" >\\n\\t<head\\n data-requesttoken=\"YhD7DtnGnjfxnNPWIJuJX82FhxKaO3GhKpFm7yNadCo=:KSOSZp+g3AK+/bifTtzsNYjJ0SuufB6VW/9TomJoEWs=\">\\n\\t\\t<meta charset=\"utf-8\">\\n\\t\\t<title>\\n\\t\\tuniCLOUD\\t\\t</title>\\n\\t\\t<meta name=\"viewport\" content=\"width=device-width, initial-scale=1.0, minimum-scale=1.0\">\\n\\t\\t\\t\\t<meta name=\"apple-itunes-app\" content=\"app-id=1125420102\">\\n\\t\\t\\t\\t<meta name=\"theme-color\" content=\"#FFFFFF\">\\n\\t\\t<link rel=\"icon\" href=\"/apps/theming/favicon?v=76\">\\n\\t\\t<link rel=\"apple-touch-icon\" href=\"/apps/theming/icon?v=76\">\\n\\t\\t<link rel=\"mask-icon\" sizes=\"any\" href=\"/core/img/favicon-mask.svg\" color=\"#FFFFFF\">\\n\\t\\t<link rel=\"manifest\" href=\"/apps/theming/manifest?v=76\">\\n\\t\\t<link rel=\"stylesheet\" href=\"/css/core/bae4-55d5-server.css?v=fb48f31ff2ad82f1a1dfe6ee298aeb8f-8fea2f06-76\">\\n<link rel=\"stylesheet\" href=\"/css/core/bae4-55d5-css-variables.css?v=fb48f31ff2ad82f1a1dfe6ee298aeb8f-8fea2f06-76\">\\n<link rel=\"stylesheet\" href=\"/apps/files_rightclick/css/app.css?v=198068b3-76\">\\n<link rel=\"stylesheet\" href=\"/core/css/guest.css?v=8fea2f06-76\">\\n\\t\\t<script nonce=\"WWhEN0R0bkduamZ4bk5QV0lKdUpYODJGaHhLYU8zR2hLcEZtN3lOYWRDbz06S1NPU1pwK2czQUsrL2JpZlR0enNOWWpKMFN1dWZCNlZXLzlUb21Kb0VXcz0=\" defer src=\"/core/js/oc.js?v=8fea2f06\"></script>\\n<script nonce=\"WWhEN0R0bkduamZ4bk5QV0lKdUpYODJGaHhLYU8zR2hLcEZtN3lOYWRDbz06S1NPU1pwK2czQUsrL2JpZlR0enNOWWpKMFN1dWZCNlZXLzlUb21Kb0VXcz0=\" defer src=\"/dist/core-common.js?v=8fea2f06-76\"></script>\\n<script nonce=\"WWhEN0R0bkduamZ4bk5QV0lKdUpYODJGaHhLYU8zR2hLcEZtN3lOYWRDbz06S1NPU1pwK2czQUsrL2JpZlR0enNOWWpKMFN1dWZCNlZXLzlUb21Kb0VXcz0=\" defer src=\"/dist/core-main.js?v=8fea2f06-76\"></script>\\n<script nonce=\"WWhEN0R0bkduamZ4bk5QV0lKdUpYODJGaHhLYU8zR2hLcEZtN3lOYWRDbz06S1NPU1pwK2czQUsrL2JpZlR0enNOWWpKMFN1dWZCNlZXLzlUb21Kb0VXcz0=\" defer src=\"/core/l10n/de_DE.js?v=8fea2f06-76\"></script>\\n<script nonce=\"WWhEN0R0bkduamZ4bk5QV0lKdUpYODJGaHhLYU8zR2hLcEZtN3lOYWRDbz06S1NPU1pwK2czQUsrL2JpZlR0enNOWWpKMFN1dWZCNlZXLzlUb21Kb0VXcz0=\" defer src=\"/dist/core-files_fileinfo.js?v=8fea2f06-76\"></script>\\n<script nonce=\"WWhEN0R0bkduamZ4bk5QV0lKdUpYODJGaHhLYU8zR2hLcEZtN3lOYWRDbz06S1NPU1pwK2czQUsrL2JpZlR0enNOWWpKMFN1dWZCNlZXLzlUb21Kb0VXcz0=\" defer src=\"/dist/core-files_client.js?v=8fea2f06-76\"></script>\\n<script nonce=\"WWhEN0R0bkduamZ4bk5QV0lKdUpYODJGaHhLYU8zR2hLcEZtN3lOYWRDbz06S1NPU1pwK2czQUsrL2JpZlR0enNOWWpKMFN1dWZCNlZXLzlUb21Kb0VXcz0=\" defer src=\"/js/core/merged-template-prepend.js?v=8fea2f06-76\"></script>\\n<script nonce=\"WWhEN0R0bkduamZ4bk5QV0lKdUpYODJGaHhLYU8zR2hLcEZtN3lOYWRDbz06S1NPU1pwK2czQUsrL2JpZlR0enNOWWpKMFN1dWZCNlZXLzlUb21Kb0VXcz0=\" defer src=\"/apps/files_sharing/l10n/de_DE.js?v=8fea2f06-76\"></script>\\n<script nonce=\"WWhEN0R0bkduamZ4bk5QV0lKdUpYODJGaHhLYU8zR2hLcEZtN3lOYWRDbz06S1NPU1pwK2czQUsrL2JpZlR0enNOWWpKMFN1dWZCNlZXLzlUb21Kb0VXcz0=\" defer src=\"/dist/files_sharing-main.js?v=8fea2f06-76\"></script>\\n<script nonce=\"WWhEN0R0bkduamZ4bk5QV0lKdUpYODJGaHhLYU8zR2hLcEZtN3lOYWRDbz06S1NPU1pwK2czQUsrL2JpZlR0enNOWWpKMFN1dWZCNlZXLzlUb21Kb0VXcz0=\" defer src=\"/apps/accessibility/l10n/de_DE.js?v=8fea2f06-76\"></script>\\n<script nonce=\"WWhEN0R0bkduamZ4bk5QV0lKdUpYODJGaHhLYU8zR2hLcEZtN3lOYWRDbz06S1NPU1pwK2czQUsrL2JpZlR0enNOWWpKMFN1dWZCNlZXLzlUb21Kb0VXcz0=\" defer src=\"/dist/accessibility-accessibilityoca.js?v=8fea2f06-76\"></script>\\n<script nonce=\"WWhEN0R0bkduamZ4bk5QV0lKdUpYODJGaHhLYU8zR2hLcEZtN3lOYWRDbz06S1NPU1pwK2czQUsrL2JpZlR0enNOWWpKMFN1dWZCNlZXLzlUb21Kb0VXcz0=\" defer src=\"/apps/files_rightclick/l10n/de_DE.js?v=8fea2f06-76\"></script>\\n<script nonce=\"WWhEN0R0bkduamZ4bk5QV0lKdUpYODJGaHhLYU8zR2hLcEZtN3lOYWRDbz06S1NPU1pwK2czQUsrL2JpZlR0enNOWWpKMFN1dWZCNlZXLzlUb21Kb0VXcz0=\" defer src=\"/apps/files_rightclick/js/script.js?v=8fea2f06-76\"></script>\\n<script nonce=\"WWhEN0R0bkduamZ4bk5QV0lKdUpYODJGaHhLYU8zR2hLcEZtN3lOYWRDbz06S1NPU1pwK2czQUsrL2JpZlR0enNOWWpKMFN1dWZCNlZXLzlUb21Kb0VXcz0=\" defer src=\"/apps/files_rightclick/js/files.js?v=8fea2f06-76\"></script>\\n<script nonce=\"WWhEN0R0bkduamZ4bk5QV0lKdUpYODJGaHhLYU8zR2hLcEZtN3lOYWRDbz06S1NPU1pwK2czQUsrL2JpZlR0enNOWWpKMFN1dWZCNlZXLzlUb21Kb0VXcz0=\" defer src=\"/apps/theming/l10n/de_DE.js?v=8fea2f06-76\"></script>\\n<script nonce=\"WWhEN0R0bkduamZ4bk5QV0lKdUpYODJGaHhLYU8zR2hLcEZtN3lOYWRDbz06S1NPU1pwK2czQUsrL2JpZlR0enNOWWpKMFN1dWZCNlZXLzlUb21Kb0VXcz0=\" defer src=\"/apps/theming/js/theming.js?v=8fea2f06-76\"></script>\\n\\t\\t<link rel=\"stylesheet\" href=\"/css/icons/icons-vars.css?v=1664198168\"/><link rel=\"stylesheet\" media=\"(prefers-color-scheme: dark)\" href=\"/apps/accessibility/css/user-a82fd95db10ff25dfad39f07372ebe37\"/><link rel=\"stylesheet\" href=\"/apps/theming/styles?v=76\"/><link rel=\"stylesheet\" href=\"/apps/theming_customcss/styles?v=1660836411018\"/><meta name=\"robots\" content=\"noindex, nofollow\"/>\\t</head>\\n\\t<body id=\"body-login\">\\n\\t\\t<noscript>\\n\\t<div id=\"nojavascript\">\\n\\t\\t<div>\\n\\t\\t\\tDiese Anwendung ben\\xc3\\xb6tigt JavaScript zum ordnungsgem\\xc3\\xa4\\xc3\\x9fen Betrieb. Bitte <a href=\"https://www.enable-javascript.com/\" target=\"_blank\" rel=\"noreferrer noopener\">aktivieren Sie JavaScript</a> und laden Sie die Seite neu.\\t\\t</div>\\n\\t</div>\\n</noscript>\\n\\t\\t\\t\\t\\t<input type=\"hidden\" id=\"initial-state-core-config\" value=\"eyJzZXNzaW9uX2xpZmV0aW1lIjoxNDQwLCJzZXNzaW9uX2tlZXBhbGl2ZSI6dHJ1ZSwiYXV0b19sb2dvdXQiOmZhbHNlLCJ2ZXJzaW9uIjoiMjQuMC40LjIiLCJ2ZXJzaW9uc3RyaW5nIjoiMjQuMC40IEVudGVycHJpc2UiLCJlbmFibGVfYXZhdGFycyI6dHJ1ZSwibG9zdF9wYXNzd29yZF9saW5rIjpudWxsLCJtb2RSZXdyaXRlV29ya2luZyI6dHJ1ZSwic2hhcmluZy5tYXhBdXRvY29tcGxldGVSZXN1bHRzIjoyNSwic2hhcmluZy5taW5TZWFyY2hTdHJpbmdMZW5ndGgiOjAsImJsYWNrbGlzdF9maWxlc19yZWdleCI6IlxcLihwYXJ0fGZpbGVwYXJ0KSQifQ==\">\\n\\t\\t\\t\\t\\t<input type=\"hidden\" id=\"initial-state-core-capabilities\" value=\"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\">\\n\\t\\t\\t\\t\\t<input type=\"hidden\" id=\"initial-state-theming-data\" value=\"eyJuYW1lIjoidW5pQ0xPVUQiLCJ1cmwiOiJodHRwczpcL1wvY2xvdWQudW5pLWdyYXouYXQiLCJzbG9nYW4iOiIiLCJjb2xvciI6IiNGRkZGRkYiLCJpbXByaW50VXJsIjoiaHR0cHM6XC9cL2Nsb3VkLnVuaS1ncmF6LmF0XC9zXC9tejlncXBRZUFEWFNtak4iLCJwcml2YWN5VXJsIjoiaHR0cHM6XC9cL2Nsb3VkLnVuaS1ncmF6LmF0XC9zXC9qbUttRHJwQjJlbkppV0QiLCJpbnZlcnRlZCI6dHJ1ZSwiY2FjaGVCdXN0ZXIiOiI3NiJ9\">\\n\\t\\t\\t\\t\\t<input type=\"hidden\" id=\"initial-state-accessibility-data\" value=\"eyJjaGVja01lZGlhIjp0cnVlLCJ0aGVtZSI6ZmFsc2UsImhpZ2hjb250cmFzdCI6ZmFsc2V9\">\\n\\t\\t\\t\\t\\t<input type=\"hidden\" id=\"initial-state-comments-maxAutoCompleteResults\" value=\"MTA=\">\\n\\t\\t\\t\\t<div class=\"wrapper\">\\n\\t\\t\\t<div class=\"v-align\">\\n\\t\\t\\t\\t\\t\\t\\t\\t\\t<header role=\"banner\">\\n\\t\\t\\t\\t\\t\\t<div id=\"header\">\\n\\t\\t\\t\\t\\t\\t\\t<div class=\"logo\">\\n\\t\\t\\t\\t\\t\\t\\t\\t<h1 class=\"hidden-visually\">\\n\\t\\t\\t\\t\\t\\t\\t\\t\\tuniCLOUD\\t\\t\\t\\t\\t\\t\\t\\t</h1>\\n\\t\\t\\t\\t\\t\\t\\t\\t\\t\\t\\t\\t\\t\\t\\t\\t\\t<img src=\"/apps/theming/image/logo?useSvg=1&amp;v=76\"/>\\n\\t\\t\\t\\t\\t\\t\\t\\t\\t\\t\\t\\t\\t\\t\\t</div>\\n\\t\\t\\t\\t\\t\\t</div>\\n\\t\\t\\t\\t\\t</header>\\n\\t\\t\\t\\t\\t\\t\\t\\t<main>\\n\\t\\t\\t\\t\\t\\t<div class=\"body-login-container update\">\\n\\t\\t<div class=\"icon-big icon-search icon-white\"></div>\\n\\t\\t<h2>Datei nicht gefunden</h2>\\n\\t\\t<p class=\"infogroup\">Das Dokument konnte auf dem Server nicht gefunden werden. M\\xc3\\xb6glicherweise wurde die Freigabe gel\\xc3\\xb6scht oder ist abgelaufen?</p>\\n\\t\\t<p><a class=\"button primary\" href=\"/\">\\n\\t\\t\\tZur\\xc3\\xbcck zu uniCLOUD\\t\\t</a></p>\\n\\t</div>\\n\\t\\t\\t\\t</main>\\n\\t\\t\\t</div>\\n\\t\\t</div>\\n\\t\\t<footer role=\"contentinfo\">\\n\\t\\t\\t<p class=\"info\">\\n\\t\\t\\t\\t<a href=\"https://cloud.uni-graz.at\" target=\"_blank\" rel=\"noreferrer noopener\" class=\"entity-name\">uniCLOUD</a><br/><a href=\"https://cloud.uni-graz.at/s/mz9gqpQeADXSmjN\" class=\"legal\" target=\"_blank\" rel=\"noreferrer noopener\">Impressum</a> \\xc2\\xb7 <a href=\"https://cloud.uni-graz.at/s/jmKmDrpB2enJiWD\" class=\"legal\" target=\"_blank\" rel=\"noreferrer noopener\">Datenschutzbestimmungen</a>\\t\\t\\t</p>\\n\\t\\t</footer>\\n\\t</body>\\n</html>\\n'"
     ]
    }
   ],
   "source": [
    "\n",
    "#Testcase: upload - download(and extract) - delete\n",
    "filenamen = [\"../test1.txt\", \"../test2.txt\", \"../test3.txt\"]\n",
    "\n",
    "for i in filenamen:\n",
    "    print(i)\n",
    "    upload_to_cloud(i,handle_token,secure_token)\n",
    "\n",
    "   \n",
    "download_from_cloud(download_token)"
   ]
  },
  {
   "cell_type": "code",
   "execution_count": 29,
   "metadata": {},
   "outputs": [
    {
     "name": "stdout",
     "output_type": "stream",
     "text": [
      "../test1.txt\n",
      "delete result: <Response [404]>\n",
      "../test2.txt\n",
      "delete result: <Response [404]>\n",
      "../test3.txt\n",
      "delete result: <Response [404]>\n"
     ]
    }
   ],
   "source": [
    "for i in filenamen:\n",
    "    print(i)\n",
    "    delete_on_cloud(i,handle_token,secure_token)"
   ]
  },
  {
   "cell_type": "code",
   "execution_count": 33,
   "metadata": {},
   "outputs": [],
   "source": [
    "from zipfile import ZipFile\n",
    "\n",
    "\n",
    "local_file_name = 'local-copy.zip'\n",
    "local_file = zipfile.ZipFile(local_file_name, 'w')\n",
    "local_file.close()\n",
    "\n",
    "with ZipFile(local_file_name, 'a') as zf:\n",
    "    zf.write(filenamen[0])"
   ]
  },
  {
   "cell_type": "code",
   "execution_count": 34,
   "metadata": {},
   "outputs": [],
   "source": [
    "import requests, zipfile, io\n",
    "r = requests.get(url + 's/' + download_token + '/download')"
   ]
  },
  {
   "cell_type": "code",
   "execution_count": 35,
   "metadata": {},
   "outputs": [
    {
     "data": {
      "text/plain": [
       "False"
      ]
     },
     "execution_count": 35,
     "metadata": {},
     "output_type": "execute_result"
    }
   ],
   "source": [
    "r.ok"
   ]
  },
  {
   "cell_type": "code",
   "execution_count": 38,
   "metadata": {},
   "outputs": [
    {
     "data": {
      "text/plain": [
       "<Response [404]>"
      ]
     },
     "execution_count": 38,
     "metadata": {},
     "output_type": "execute_result"
    }
   ],
   "source": [
    "r"
   ]
  },
  {
   "cell_type": "code",
   "execution_count": 36,
   "metadata": {},
   "outputs": [
    {
     "ename": "BadZipFile",
     "evalue": "File is not a zip file",
     "output_type": "error",
     "traceback": [
      "\u001b[0;31m---------------------------------------------------------------------------\u001b[0m",
      "\u001b[0;31mBadZipFile\u001b[0m                                Traceback (most recent call last)",
      "\u001b[1;32m/home/lukas/code/eCallistoRadioBursts/download2.ipynb Cell 7\u001b[0m in \u001b[0;36m<cell line: 1>\u001b[0;34m()\u001b[0m\n\u001b[0;32m----> <a href='vscode-notebook-cell:/home/lukas/code/eCallistoRadioBursts/download2.ipynb#X10sZmlsZQ%3D%3D?line=0'>1</a>\u001b[0m z \u001b[39m=\u001b[39m zipfile\u001b[39m.\u001b[39;49mZipFile(io\u001b[39m.\u001b[39;49mBytesIO(r\u001b[39m.\u001b[39;49mcontent))\n",
      "File \u001b[0;32m/usr/lib/python3.10/zipfile.py:1267\u001b[0m, in \u001b[0;36mZipFile.__init__\u001b[0;34m(self, file, mode, compression, allowZip64, compresslevel, strict_timestamps)\u001b[0m\n\u001b[1;32m   1265\u001b[0m \u001b[39mtry\u001b[39;00m:\n\u001b[1;32m   1266\u001b[0m     \u001b[39mif\u001b[39;00m mode \u001b[39m==\u001b[39m \u001b[39m'\u001b[39m\u001b[39mr\u001b[39m\u001b[39m'\u001b[39m:\n\u001b[0;32m-> 1267\u001b[0m         \u001b[39mself\u001b[39;49m\u001b[39m.\u001b[39;49m_RealGetContents()\n\u001b[1;32m   1268\u001b[0m     \u001b[39melif\u001b[39;00m mode \u001b[39min\u001b[39;00m (\u001b[39m'\u001b[39m\u001b[39mw\u001b[39m\u001b[39m'\u001b[39m, \u001b[39m'\u001b[39m\u001b[39mx\u001b[39m\u001b[39m'\u001b[39m):\n\u001b[1;32m   1269\u001b[0m         \u001b[39m# set the modified flag so central directory gets written\u001b[39;00m\n\u001b[1;32m   1270\u001b[0m         \u001b[39m# even if no files are added to the archive\u001b[39;00m\n\u001b[1;32m   1271\u001b[0m         \u001b[39mself\u001b[39m\u001b[39m.\u001b[39m_didModify \u001b[39m=\u001b[39m \u001b[39mTrue\u001b[39;00m\n",
      "File \u001b[0;32m/usr/lib/python3.10/zipfile.py:1334\u001b[0m, in \u001b[0;36mZipFile._RealGetContents\u001b[0;34m(self)\u001b[0m\n\u001b[1;32m   1332\u001b[0m     \u001b[39mraise\u001b[39;00m BadZipFile(\u001b[39m\"\u001b[39m\u001b[39mFile is not a zip file\u001b[39m\u001b[39m\"\u001b[39m)\n\u001b[1;32m   1333\u001b[0m \u001b[39mif\u001b[39;00m \u001b[39mnot\u001b[39;00m endrec:\n\u001b[0;32m-> 1334\u001b[0m     \u001b[39mraise\u001b[39;00m BadZipFile(\u001b[39m\"\u001b[39m\u001b[39mFile is not a zip file\u001b[39m\u001b[39m\"\u001b[39m)\n\u001b[1;32m   1335\u001b[0m \u001b[39mif\u001b[39;00m \u001b[39mself\u001b[39m\u001b[39m.\u001b[39mdebug \u001b[39m>\u001b[39m \u001b[39m1\u001b[39m:\n\u001b[1;32m   1336\u001b[0m     \u001b[39mprint\u001b[39m(endrec)\n",
      "\u001b[0;31mBadZipFile\u001b[0m: File is not a zip file"
     ]
    }
   ],
   "source": [
    "z = zipfile.ZipFile(io.BytesIO(r.content))"
   ]
  },
  {
   "cell_type": "code",
   "execution_count": 37,
   "metadata": {},
   "outputs": [
    {
     "ename": "NameError",
     "evalue": "name 'z' is not defined",
     "output_type": "error",
     "traceback": [
      "\u001b[0;31m---------------------------------------------------------------------------\u001b[0m",
      "\u001b[0;31mNameError\u001b[0m                                 Traceback (most recent call last)",
      "\u001b[1;32m/home/lukas/code/eCallistoRadioBursts/download2.ipynb Cell 8\u001b[0m in \u001b[0;36m<cell line: 1>\u001b[0;34m()\u001b[0m\n\u001b[0;32m----> <a href='vscode-notebook-cell:/home/lukas/code/eCallistoRadioBursts/download2.ipynb#X11sZmlsZQ%3D%3D?line=0'>1</a>\u001b[0m z\u001b[39m.\u001b[39mextractall(\u001b[39m\"\u001b[39m\u001b[39m/path/to/destination_directory\u001b[39m\u001b[39m\"\u001b[39m)\n",
      "\u001b[0;31mNameError\u001b[0m: name 'z' is not defined"
     ]
    }
   ],
   "source": [
    "z.extractall(\"/path/to/destination_directory\")"
   ]
  },
  {
   "cell_type": "code",
   "execution_count": null,
   "metadata": {},
   "outputs": [],
   "source": []
  }
 ],
 "metadata": {
  "kernelspec": {
   "display_name": "Python 3.10.4 ('eCallisto': venv)",
   "language": "python",
   "name": "python3"
  },
  "language_info": {
   "codemirror_mode": {
    "name": "ipython",
    "version": 3
   },
   "file_extension": ".py",
   "mimetype": "text/x-python",
   "name": "python",
   "nbconvert_exporter": "python",
   "pygments_lexer": "ipython3",
   "version": "3.10.6"
  },
  "orig_nbformat": 4,
  "vscode": {
   "interpreter": {
    "hash": "e00f758f35c06d763c6405c3f15a493cb574c036fac5ec0b3a39fc9a6a4c21a5"
   }
  }
 },
 "nbformat": 4,
 "nbformat_minor": 2
}
