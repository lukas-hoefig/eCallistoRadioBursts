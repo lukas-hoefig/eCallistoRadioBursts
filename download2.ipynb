{
 "cells": [
  {
   "cell_type": "code",
   "execution_count": 68,
   "metadata": {},
   "outputs": [],
   "source": [
    "'''\n",
    "Test to upload Files from a local directory to nextcloud share with \"password\",\n",
    "download via different readonly share, delete from share.\n",
    "All done by using the pypi REQUESTS module\n",
    "and the python modules zipfile and os\n",
    "'''\n",
    "\n",
    "import requests\n",
    "import zipfile\n",
    "import os\n",
    "import shutil\n",
    "\n",
    "url = 'https://cloud.uni-graz.at/'  #tested on uni-graz nextcloud by Roland Maderbacher\n",
    "transfer_dir = 'TRANSFER'           #local directory, has to exist with files inside\n",
    "handle_token = 'example7iyBLQ5BmcsQyc2'    #read/write share on cloud\n",
    "secure_token = 'exampleHYQBATPmsN2022'     #password for read/write share on cloud\n",
    "download_token = 'example8AAWaYAWZCBKwTR'  #share to same path on cloud but readonly\n",
    "\n",
    "\n",
    "def delete_on_cloud(filename,handle_token,secure_token):\n",
    "    full_url = url + 'public.php/webdav/' + filename\n",
    "    result = requests.delete(full_url, auth = (handle_token, secure_token))\n",
    "    print('delete result:', result) #Response of webserver while testing\n",
    "\n",
    "\n",
    "def upload_to_cloud(filename,handle_token,secure_token):\n",
    "    name = filename.rsplit(\"/\")[-1]\n",
    "    with open(filename) as file:\n",
    "        content = file.read()\n",
    "    full_url = url + 'public.php/webdav/' + name\n",
    "    result = requests.put(full_url, auth = (handle_token, secure_token), data = content)\n",
    "    print('upload result:', result) #Response of webserver while testing\n",
    "\n",
    "\n",
    "# def download_from_cloud(download_token):\n",
    "#     local_file_name = 'local-copy.zip'\n",
    "#     local_file = zipfile.ZipFile(local_file_name, 'w')\n",
    "#     local_file.close()\n",
    "#     full_url = url + 's/' + download_token + '/download'\n",
    "#     data = requests.get(full_url)\n",
    "# \n",
    "#     if data.ok:\n",
    "#         with zipfile.ZipFile(local_file_name, 'r') as file:\n",
    "#             print(data.content)\n",
    "#             file.write(data.content)\n",
    "# \n",
    "#         with zipfile.ZipFile(local_file_name, 'r') as zip_ref:\n",
    "#             zip_ref.extractall()\n",
    "#     else:\n",
    "#         print(\"url request failed, request status: \", data.ok)\n",
    "\n",
    "def download_from_cloud(download_token):\n",
    "    if not os.path.isdir(\"./eCallistoData/realtime\"):\n",
    "        os.mkdir(\"eCallistoData/realtime/\")\n",
    "    local_file = './eCallistoData/realtime/local-copy.zip'\n",
    "    with zipfile.ZipFile(local_file, 'w'):\n",
    "        pass\n",
    "    full_url = url + 's/' + download_token + '/download'\n",
    "    data = requests.get(full_url)\n",
    "\n",
    "    if data.ok:\n",
    "        with open(local_file, 'wb') as file:\n",
    "            file.write(data.content)\n",
    "\n",
    "        with zipfile.ZipFile(local_file, 'a') as zf:\n",
    "            names = zf.namelist()\n",
    "            folder = names[0]\n",
    "            zf.extractall(path=\"./eCallistoData/realtime/\")\n",
    "            for file in os.listdir(\"./eCallistoData/realtime/\" + folder):\n",
    "                shutil.move(\"./eCallistoData/realtime/\" + folder + file, \"./eCallistoData/realtime/\" + file)    \n",
    "            os.removedirs(\"./eCallistoData/realtime/\" + folder)\n",
    "        os.remove(local_file)\n",
    "    else:\n",
    "        print(\"Request failed: \", data.ok)"
   ]
  },
  {
   "cell_type": "code",
   "execution_count": 49,
   "metadata": {},
   "outputs": [
    {
     "name": "stdout",
     "output_type": "stream",
     "text": [
      "../test1.txt\n",
      "upload result: <Response [201]>\n",
      "../test2.txt\n",
      "upload result: <Response [201]>\n",
      "../test3.txt\n",
      "upload result: <Response [201]>\n"
     ]
    }
   ],
   "source": [
    "token_1 = \"6j8jCKGy369pror\"\n",
    "token_2 = \"oobta-Lngif-m2pZ7-HLxip-FWEXc\"\n",
    "\n",
    "filenamen = [\"../test1.txt\", \"../test2.txt\", \"../test3.txt\"]\n",
    "for i in filenamen:\n",
    "    print(i)\n",
    "    upload_to_cloud(i, token_1,token_2)\n"
   ]
  },
  {
   "cell_type": "code",
   "execution_count": 69,
   "metadata": {},
   "outputs": [],
   "source": [
    "download_from_cloud(token_1)"
   ]
  },
  {
   "cell_type": "code",
   "execution_count": 42,
   "metadata": {},
   "outputs": [
    {
     "name": "stdout",
     "output_type": "stream",
     "text": [
      "delete result: <Response [204]>\n",
      "delete result: <Response [204]>\n",
      "delete result: <Response [204]>\n"
     ]
    }
   ],
   "source": [
    "filenamen = [\"test1.txt\", \"test2.txt\", \"test3.txt\"]\n",
    "for i in filenamen:\n",
    "    delete_on_cloud(i,token_1,token_2)"
   ]
  },
  {
   "cell_type": "code",
   "execution_count": null,
   "metadata": {},
   "outputs": [],
   "source": []
  }
 ],
 "metadata": {
  "kernelspec": {
   "display_name": "Python 3.8.2 64-bit",
   "language": "python",
   "name": "python3"
  },
  "language_info": {
   "codemirror_mode": {
    "name": "ipython",
    "version": 3
   },
   "file_extension": ".py",
   "mimetype": "text/x-python",
   "name": "python",
   "nbconvert_exporter": "python",
   "pygments_lexer": "ipython3",
   "version": "3.8.2"
  },
  "orig_nbformat": 4,
  "vscode": {
   "interpreter": {
    "hash": "52279f95a71c719c29b46e6649e7c2848e29d27590516e424c9feb43371b1514"
   }
  }
 },
 "nbformat": 4,
 "nbformat_minor": 2
}
